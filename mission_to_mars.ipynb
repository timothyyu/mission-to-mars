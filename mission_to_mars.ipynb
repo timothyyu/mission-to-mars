{
 "cells": [
  {
   "cell_type": "code",
   "execution_count": 6,
   "metadata": {
    "collapsed": true
   },
   "outputs": [],
   "source": [
    "#Imports\n",
    "from splinter import Browser\n",
    "from bs4 import BeautifulSoup\n",
    "import pandas as pd\n"
   ]
  },
  {
   "cell_type": "code",
   "execution_count": 7,
   "metadata": {},
   "outputs": [],
   "source": [
    "#Set path for splinter (chromedriver)\n",
    "executable_path = {'executable_path': 'chromedriver.exe'}\n",
    "browser = Browser('chrome', **executable_path, headless=False)\n",
    "#url to scrape\n",
    "url = 'https://mars.nasa.gov/news/'\n",
    "#set url in splinter/chromedriver\n",
    "browser.visit(url)\n",
    "html = browser.html\n",
    "soup = BeautifulSoup(html, 'html.parser')\n"
   ]
  },
  {
   "cell_type": "code",
   "execution_count": 31,
   "metadata": {},
   "outputs": [
    {
     "name": "stdout",
     "output_type": "stream",
     "text": [
      "<div class=\"content_title\"><a href=\"/news/8326/nasa-invests-in-visionary-technology/\" target=\"_self\">NASA Invests in Visionary Technology </a></div>\n",
      "[<div class=\"article_teaser_body\">NASA is investing in technology concepts, including several from JPL, that may one day be used for future space exploration missions.</div>, <div class=\"article_teaser_body\">NASA is about to go on a journey to study the center of Mars.</div>, <div class=\"article_teaser_body\">InSight, the next mission to the Red Planet, will use seismology to see into the depths of Mars.</div>, <div class=\"article_teaser_body\">NASA's Mars Curiosity rover just hit a new milestone: its two-thousandth Martian day on the Red Planet. An image mosaic taken recently offers a preview of what comes next.</div>, <div class=\"article_teaser_body\">NASA’s next mission to Mars will be the topic of a media briefing Thursday, March 29, at JPL. The briefing will air live on NASA Television and the agency’s website.</div>, <div class=\"article_teaser_body\">NASA spacecraft travel to far-off destinations in space, but a new mobile app produced by NASA's Jet Propulsion Laboratory, Pasadena, California, brings spacecraft to users.</div>, <div class=\"article_teaser_body\">Scientists and engineers with NASA's next mission to Mars will be touring California cities starting this month.</div>, <div class=\"article_teaser_body\">NASA's Mars 2020 mission has begun the assembly, test and launch operations (ATLO) phase of its development, on track for a July 2020 launch to Mars.</div>, <div class=\"article_teaser_body\">NASA invites digital creators to apply for social media credentials to cover the launch of the InSight mission to Mars, May 3-5, at California's Vandenberg Air Force Base.</div>, <div class=\"article_teaser_body\">Engineers are practicing operations for NASA's Mars InSight lander, which is launching this spring.</div>, <div class=\"article_teaser_body\">NASA's InSight spacecraft has arrived at Vandenberg Air Force Base in central California to begin final preparations for a launch this May.</div>, <div class=\"article_teaser_body\">NASA's Mars Curiosity rover has conducted the first test of a new drilling technique on the Red Planet since its drill stopped working reliably.     </div>, <div class=\"article_teaser_body\">NASA has a long and successful track record at Mars. Since 1965, it has flown by, orbited, landed and roved across the surface of the Red Planet. What can InSight -- planned for launch in May -- do that hasn’t been done before?</div>, <div class=\"article_teaser_body\">A recent view from Mars orbit of the site where NASA's Phoenix Mars mission landed on far-northern Mars nearly a decade ago captures changes.</div>, <div class=\"article_teaser_body\">Diagnostic work is the focus for resuming service and exiting safe standby status.</div>, <div class=\"article_teaser_body\">The Sun will rise on NASA's solar-powered Mars rover Opportunity for the 5,000th time on Saturday, sending rays of energy to a robot that continues to provide revelations.</div>, <div class=\"article_teaser_body\">NASA's Mars Exploration Rover Opportunity keeps providing surprises about the Red Planet, most recently with observations of possible \"rock stripes.\"</div>, <div class=\"article_teaser_body\">When it launches in 2020, NASA's next Mars rover will carry a chunk of Martian meteorite on board.</div>, <div class=\"article_teaser_body\">NASA's Mars Reconnaissance Orbiter (MRO) has begun extra stargazing to help the space agency accomplish advances in Mars exploration over the next decade.</div>, <div class=\"article_teaser_body\">Star-shaped, tiny, dark bumps in the fine-layered bright bedrock of a Martian ridge are drawing close inspection by NASA's Curiosity Mars rover.</div>, <div class=\"article_teaser_body\">Project could help spacecraft keep time more efficiently and allow ground stations to better track multiple satellites at once near crowded areas like Mars.</div>, <div class=\"article_teaser_body\">A new self-portrait of NASA's Curiosity Mars rover shows the vehicle on Vera Rubin Ridge.</div>, <div class=\"article_teaser_body\">A panoramic image that NASA's Curiosity Mars rover took from a mountainside ridge provides a sweeping vista of key sites visited since the rover's 2012 landing, and the towering surroundings.</div>, <div class=\"article_teaser_body\">NASA's next mission to Mars passed a key test Tuesday, extending the solar arrays that will power the InSight spacecraft once it lands on the Red Planet this November.</div>, <div class=\"article_teaser_body\">If Mars has a global dust storm in 2018, observations could aid understanding of its effects.</div>, <div class=\"article_teaser_body\">Researchers using NASA's Mars Reconnaissance Orbiter have found eight sites where thick deposits of ice beneath Mars' surface are exposed.</div>, <div class=\"article_teaser_body\">How long might a rocky, Mars-like planet be habitable if it were orbiting a red dwarf star?</div>, <div class=\"article_teaser_body\">NASA's senior Mars rover, Opportunity, has just passed the shortest-daylight weeks of the long Martian year with its solar panels in encouragingly clean condition for entering a potential dust-storm season in 2018.\r\n",
      "\r\n",
      "</div>, <div class=\"article_teaser_body\">In just a few years, NASA's next Mars rover mission will be flying to the Red Planet.</div>, <div class=\"article_teaser_body\">Seasonal dark streaks on Mars that previously were described as possible signs of flowing water have steep slopes that are better matches to dry flow processes...</div>, <div class=\"article_teaser_body\">A 58-foot-tall Black Brant IX sounding rocket launches from NASA's Wallops Flight Facility on Oct. 4. This was the first test of the Mars 2020 mission's parachute-testing series, the Advanced Supersonic Parachute Inflation Research Experiment, or ASPIRE.</div>, <div class=\"article_teaser_body\">Last month, NASA invited members of the public to send their names to Mars. And the public responded loud and clear.</div>, <div class=\"article_teaser_body\">On a part of \"Vera Rubin Ridge\" where rover-team researchers sought to determine whether dust coatings are hiding rocks' hematite content, the Mast Camera (Mastcam) on NASA's Curiosity Mars rover took this image of a rock surface that had been brushed with the rover's Dust Removal Tool.</div>, <div class=\"article_teaser_body\">When NASA's Mars Pathfinder touched down in 1997, it had five cameras: two on a mast that popped up from the lander, and three on NASA's first rover, Sojourner.</div>, <div class=\"article_teaser_body\">NASA's Mars rover Curiosity team is working to restore Curiosity's sample-drilling capability using new techniques. The latest development is a preparatory test on Mars.</div>, <div class=\"article_teaser_body\">When NASA scientists want to follow the path of the Curiosity rover on Mars, they can don a mixed-reality headset and virtually explore the Martian landscape.</div>, <div class=\"article_teaser_body\">Mars has an invisible magnetic “tail” that is twisted by interaction with the solar wind, according to new research using data from NASA’s MAVEN spacecraft. </div>, <div class=\"article_teaser_body\">The discovery of evidence for ancient sea-floor hydrothermal deposits on Mars identifies an area on the planet that may offer clues about the origin of life on Earth.</div>, <div class=\"article_teaser_body\">NASA's longest-lived mission to Mars has gained its first look at the Martian moon Phobos, pursuing a deeper understanding by examining it in infrared wavelengths.</div>, <div class=\"article_teaser_body\">NASA's InSight lander will travel to Mars next year. When it does, it will be carrying two microchips bearing the names of members of the public.</div>]\n"
     ]
    }
   ],
   "source": [
    "#Scrape the NASA Mars News Site and collect the latest News Title and Paragragh Text\n",
    "news_title = soup.find(class_='content_title')\n",
    "news_p = soup.find_all(class_='article_teaser_body')\n",
    "print(news_title)\n",
    "print(news_p)"
   ]
  },
  {
   "cell_type": "code",
   "execution_count": 14,
   "metadata": {},
   "outputs": [
    {
     "name": "stdout",
     "output_type": "stream",
     "text": [
      "<div class=\"content_title\"><a href=\"/news/8326/nasa-invests-in-visionary-technology/\" target=\"_self\">NASA Invests in Visionary Technology </a></div>\n",
      "[<div class=\"article_teaser_body\">NASA is investing in technology concepts, including several from JPL, that may one day be used for future space exploration missions.</div>, <div class=\"article_teaser_body\">NASA is about to go on a journey to study the center of Mars.</div>, <div class=\"article_teaser_body\">InSight, the next mission to the Red Planet, will use seismology to see into the depths of Mars.</div>, <div class=\"article_teaser_body\">NASA's Mars Curiosity rover just hit a new milestone: its two-thousandth Martian day on the Red Planet. An image mosaic taken recently offers a preview of what comes next.</div>, <div class=\"article_teaser_body\">NASA’s next mission to Mars will be the topic of a media briefing Thursday, March 29, at JPL. The briefing will air live on NASA Television and the agency’s website.</div>, <div class=\"article_teaser_body\">NASA spacecraft travel to far-off destinations in space, but a new mobile app produced by NASA's Jet Propulsion Laboratory, Pasadena, California, brings spacecraft to users.</div>, <div class=\"article_teaser_body\">Scientists and engineers with NASA's next mission to Mars will be touring California cities starting this month.</div>, <div class=\"article_teaser_body\">NASA's Mars 2020 mission has begun the assembly, test and launch operations (ATLO) phase of its development, on track for a July 2020 launch to Mars.</div>, <div class=\"article_teaser_body\">NASA invites digital creators to apply for social media credentials to cover the launch of the InSight mission to Mars, May 3-5, at California's Vandenberg Air Force Base.</div>, <div class=\"article_teaser_body\">Engineers are practicing operations for NASA's Mars InSight lander, which is launching this spring.</div>, <div class=\"article_teaser_body\">NASA's InSight spacecraft has arrived at Vandenberg Air Force Base in central California to begin final preparations for a launch this May.</div>, <div class=\"article_teaser_body\">NASA's Mars Curiosity rover has conducted the first test of a new drilling technique on the Red Planet since its drill stopped working reliably.     </div>, <div class=\"article_teaser_body\">NASA has a long and successful track record at Mars. Since 1965, it has flown by, orbited, landed and roved across the surface of the Red Planet. What can InSight -- planned for launch in May -- do that hasn’t been done before?</div>, <div class=\"article_teaser_body\">A recent view from Mars orbit of the site where NASA's Phoenix Mars mission landed on far-northern Mars nearly a decade ago captures changes.</div>, <div class=\"article_teaser_body\">Diagnostic work is the focus for resuming service and exiting safe standby status.</div>, <div class=\"article_teaser_body\">The Sun will rise on NASA's solar-powered Mars rover Opportunity for the 5,000th time on Saturday, sending rays of energy to a robot that continues to provide revelations.</div>, <div class=\"article_teaser_body\">NASA's Mars Exploration Rover Opportunity keeps providing surprises about the Red Planet, most recently with observations of possible \"rock stripes.\"</div>, <div class=\"article_teaser_body\">When it launches in 2020, NASA's next Mars rover will carry a chunk of Martian meteorite on board.</div>, <div class=\"article_teaser_body\">NASA's Mars Reconnaissance Orbiter (MRO) has begun extra stargazing to help the space agency accomplish advances in Mars exploration over the next decade.</div>, <div class=\"article_teaser_body\">Star-shaped, tiny, dark bumps in the fine-layered bright bedrock of a Martian ridge are drawing close inspection by NASA's Curiosity Mars rover.</div>, <div class=\"article_teaser_body\">Project could help spacecraft keep time more efficiently and allow ground stations to better track multiple satellites at once near crowded areas like Mars.</div>, <div class=\"article_teaser_body\">A new self-portrait of NASA's Curiosity Mars rover shows the vehicle on Vera Rubin Ridge.</div>, <div class=\"article_teaser_body\">A panoramic image that NASA's Curiosity Mars rover took from a mountainside ridge provides a sweeping vista of key sites visited since the rover's 2012 landing, and the towering surroundings.</div>, <div class=\"article_teaser_body\">NASA's next mission to Mars passed a key test Tuesday, extending the solar arrays that will power the InSight spacecraft once it lands on the Red Planet this November.</div>, <div class=\"article_teaser_body\">If Mars has a global dust storm in 2018, observations could aid understanding of its effects.</div>, <div class=\"article_teaser_body\">Researchers using NASA's Mars Reconnaissance Orbiter have found eight sites where thick deposits of ice beneath Mars' surface are exposed.</div>, <div class=\"article_teaser_body\">How long might a rocky, Mars-like planet be habitable if it were orbiting a red dwarf star?</div>, <div class=\"article_teaser_body\">NASA's senior Mars rover, Opportunity, has just passed the shortest-daylight weeks of the long Martian year with its solar panels in encouragingly clean condition for entering a potential dust-storm season in 2018.\r\n",
      "\r\n",
      "</div>, <div class=\"article_teaser_body\">In just a few years, NASA's next Mars rover mission will be flying to the Red Planet.</div>, <div class=\"article_teaser_body\">Seasonal dark streaks on Mars that previously were described as possible signs of flowing water have steep slopes that are better matches to dry flow processes...</div>, <div class=\"article_teaser_body\">A 58-foot-tall Black Brant IX sounding rocket launches from NASA's Wallops Flight Facility on Oct. 4. This was the first test of the Mars 2020 mission's parachute-testing series, the Advanced Supersonic Parachute Inflation Research Experiment, or ASPIRE.</div>, <div class=\"article_teaser_body\">Last month, NASA invited members of the public to send their names to Mars. And the public responded loud and clear.</div>, <div class=\"article_teaser_body\">On a part of \"Vera Rubin Ridge\" where rover-team researchers sought to determine whether dust coatings are hiding rocks' hematite content, the Mast Camera (Mastcam) on NASA's Curiosity Mars rover took this image of a rock surface that had been brushed with the rover's Dust Removal Tool.</div>, <div class=\"article_teaser_body\">When NASA's Mars Pathfinder touched down in 1997, it had five cameras: two on a mast that popped up from the lander, and three on NASA's first rover, Sojourner.</div>, <div class=\"article_teaser_body\">NASA's Mars rover Curiosity team is working to restore Curiosity's sample-drilling capability using new techniques. The latest development is a preparatory test on Mars.</div>, <div class=\"article_teaser_body\">When NASA scientists want to follow the path of the Curiosity rover on Mars, they can don a mixed-reality headset and virtually explore the Martian landscape.</div>, <div class=\"article_teaser_body\">Mars has an invisible magnetic “tail” that is twisted by interaction with the solar wind, according to new research using data from NASA’s MAVEN spacecraft. </div>, <div class=\"article_teaser_body\">The discovery of evidence for ancient sea-floor hydrothermal deposits on Mars identifies an area on the planet that may offer clues about the origin of life on Earth.</div>, <div class=\"article_teaser_body\">NASA's longest-lived mission to Mars has gained its first look at the Martian moon Phobos, pursuing a deeper understanding by examining it in infrared wavelengths.</div>, <div class=\"article_teaser_body\">NASA's InSight lander will travel to Mars next year. When it does, it will be carrying two microchips bearing the names of members of the public.</div>]\n"
     ]
    }
   ],
   "source": [
    "\n",
    "\n"
   ]
  },
  {
   "cell_type": "code",
   "execution_count": 20,
   "metadata": {},
   "outputs": [
    {
     "data": {
      "text/plain": [
       "'NASA Invests in Visionary Technology '"
      ]
     },
     "execution_count": 20,
     "metadata": {},
     "output_type": "execute_result"
    }
   ],
   "source": []
  },
  {
   "cell_type": "code",
   "execution_count": null,
   "metadata": {
    "collapsed": true
   },
   "outputs": [],
   "source": []
  }
 ],
 "metadata": {
  "kernelspec": {
   "display_name": "Python 3",
   "language": "python",
   "name": "python3"
  },
  "language_info": {
   "codemirror_mode": {
    "name": "ipython",
    "version": 3
   },
   "file_extension": ".py",
   "mimetype": "text/x-python",
   "name": "python",
   "nbconvert_exporter": "python",
   "pygments_lexer": "ipython3",
   "version": "3.6.1"
  }
 },
 "nbformat": 4,
 "nbformat_minor": 2
}
