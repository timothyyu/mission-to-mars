{
 "cells": [
  {
   "cell_type": "code",
   "execution_count": 16,
   "metadata": {},
   "outputs": [],
   "source": [
    "#Scrape the NASA Mars News Site and collect the latest News Title and Paragragh Text\n",
    "#Scrape featured image from JPL Featured Space Image\n",
    "#Obtain Mars size vs. Earth diagram and alt/text caption\n",
    "#Scrape Mars planet facts and information\n",
    "#Obtain latest Mars weather information (@marswxreport, Twitter)\n",
    "#Obtain full size image url links for all of Mars' Hemispheres\n",
    "\n",
    "#Imports\n",
    "from splinter import Browser #https://splinter.readthedocs.io/en/latest/\n",
    "from bs4 import BeautifulSoup #https://www.crummy.com/software/BeautifulSoup/bs4/doc/\n",
    "\n",
    "import pandas as pd\n",
    "import time\n",
    "import datetime\n",
    "import requests\n",
    "import json"
   ]
  },
  {
   "cell_type": "code",
   "execution_count": 17,
   "metadata": {},
   "outputs": [],
   "source": [
    "#Set path for splinter (chromedriver)\n",
    "executable_path = {'executable_path': 'chromedriver.exe'}\n",
    "browser = Browser('chrome', **executable_path, headless=False)\n",
    "time.sleep(1.5)"
   ]
  },
  {
   "cell_type": "code",
   "execution_count": 21,
   "metadata": {},
   "outputs": [
    {
     "name": "stdout",
     "output_type": "stream",
     "text": [
      "NASA Invests in Visionary Technology \n",
      "NASA is investing in technology concepts, including several from JPL, that may one day be used for future space exploration missions.\n"
     ]
    }
   ],
   "source": [
    "#Scrape the NASA Mars News Site and collect the latest News Title and Paragragh Text\n",
    "\n",
    "#url to scrape\n",
    "url = \"https://mars.nasa.gov/news/\"\n",
    "browser.visit(url)\n",
    "#set url in splinter/chromedriver\n",
    "html = browser.html\n",
    "soup = BeautifulSoup(html, \"html.parser\")\n",
    "time.sleep(1)\n",
    "news_title = soup.find('div',class_='content_title').get_text()\n",
    "time.sleep(1.5)\n",
    "news_p = soup.find('div',class_='article_teaser_body').text\n",
    "print(news_title)\n",
    "print(news_p)\n"
   ]
  },
  {
   "cell_type": "code",
   "execution_count": null,
   "metadata": {},
   "outputs": [],
   "source": []
  },
  {
   "cell_type": "code",
   "execution_count": 7,
   "metadata": {},
   "outputs": [
    {
     "name": "stdout",
     "output_type": "stream",
     "text": [
      "Relative url of image:\n",
      "/spaceimages/images/largesize/PIA18358_hires.jpg\n",
      "Reconstructed full url of full size image:\n",
      " https://www.jpl.nasa.gov/spaceimages/images/largesize/PIA18358_hires.jpg\n"
     ]
    }
   ],
   "source": [
    "#Scrape featured image from JPL Featured Space Image\n",
    "url = 'https://www.jpl.nasa.gov/spaceimages/?search=&category=Mars'\n",
    "browser.visit(url)\n",
    "time.sleep(3)\n",
    "browser.click_link_by_partial_text('FULL IMAGE')\n",
    "time.sleep(1.5)\n",
    "browser.click_link_by_partial_text('more info')\n",
    "\n",
    "#Pass html from splinter/chromedriver to be parsed by beautiful soup\n",
    "html = browser.html\n",
    "soup = BeautifulSoup(html, 'html.parser')\n",
    "\n",
    "#Obtain relative image url from parsed html with beautiful soup\n",
    "img_url_part = soup.find('figure', class_='lede').find('img')['src']\n",
    "print(\"Relative url of image:\")\n",
    "print(img_url_part)\n",
    "base_url =\" https://www.jpl.nasa.gov\"\n",
    "#Concatenate base_url and img_url_part\n",
    "print(\"Reconstructed full url of full size image:\")\n",
    "print(base_url + img_url_part)"
   ]
  },
  {
   "cell_type": "code",
   "execution_count": 8,
   "metadata": {
    "scrolled": true
   },
   "outputs": [
    {
     "data": {
      "text/plain": [
       "'<table border=\"1\" class=\"dataframe\">\\n  <thead>\\n    <tr style=\"text-align: right;\">\\n      <th></th>\\n      <th>value</th>\\n    </tr>\\n    <tr>\\n      <th>description</th>\\n      <th></th>\\n    </tr>\\n  </thead>\\n  <tbody>\\n    <tr>\\n      <th>Equatorial Diameter:</th>\\n      <td>6,792 km</td>\\n    </tr>\\n    <tr>\\n      <th>Polar Diameter:</th>\\n      <td>6,752 km</td>\\n    </tr>\\n    <tr>\\n      <th>Mass:</th>\\n      <td>6.42 x 10^23 kg (10.7% Earth)</td>\\n    </tr>\\n    <tr>\\n      <th>Moons:</th>\\n      <td>2 (Phobos &amp; Deimos)</td>\\n    </tr>\\n    <tr>\\n      <th>Orbit Distance:</th>\\n      <td>227,943,824 km (1.52 AU)</td>\\n    </tr>\\n    <tr>\\n      <th>Orbit Period:</th>\\n      <td>687 days (1.9 years)</td>\\n    </tr>\\n    <tr>\\n      <th>Surface Temperature:</th>\\n      <td>-153 to 20 °C</td>\\n    </tr>\\n    <tr>\\n      <th>First Record:</th>\\n      <td>2nd millennium BC</td>\\n    </tr>\\n    <tr>\\n      <th>Recorded By:</th>\\n      <td>Egyptian astronomers</td>\\n    </tr>\\n  </tbody>\\n</table>'"
      ]
     },
     "execution_count": 8,
     "metadata": {},
     "output_type": "execute_result"
    }
   ],
   "source": [
    "#Scrape Mars planet facts and information\n",
    "url = 'http://space-facts.com/mars/'\n",
    "browser.visit(url)\n",
    "time.sleep(3)\n",
    "\n",
    "#Pass html from splinter/chromedriver to be parsed by beautiful soup\n",
    "html = browser.html\n",
    "soup = BeautifulSoup(html, 'html.parser')\n",
    "\n",
    "#Pass html from beautiful soup to the pd.read_html method:\n",
    "mars_facts_df = pd.read_html(html)[0]\n",
    "#https://pandas.pydata.org/pandas-docs/stable/generated/pandas.read_html.html\n",
    "mars_facts_df .columns=['description', 'value']\n",
    "mars_facts_df.set_index('description', inplace=True)\n",
    "\n",
    "#Mars size vs. Earth diagram scrape:\n",
    "diagram_text= soup.find('div',id=\"attachment_4837\").find('img')['alt']\n",
    "diagram_url = soup.find('div',id=\"attachment_4837\").find('img')['src']\n",
    "\n",
    "#Display output of table unformatted:\n",
    "mars_facts_df.to_html()"
   ]
  },
  {
   "cell_type": "code",
   "execution_count": 9,
   "metadata": {},
   "outputs": [
    {
     "name": "stdout",
     "output_type": "stream",
     "text": [
      "https://space-facts.com/wp-content/uploads/mars-size.png\n",
      "Mars size compared to Earth\n"
     ]
    }
   ],
   "source": [
    "#Url of Mars size vs. Earth diagram and alt text/caption:\n",
    "print(diagram_url)\n",
    "print(diagram_text)"
   ]
  },
  {
   "cell_type": "code",
   "execution_count": 10,
   "metadata": {},
   "outputs": [
    {
     "data": {
      "text/html": [
       "<div>\n",
       "<style scoped>\n",
       "    .dataframe tbody tr th:only-of-type {\n",
       "        vertical-align: middle;\n",
       "    }\n",
       "\n",
       "    .dataframe tbody tr th {\n",
       "        vertical-align: top;\n",
       "    }\n",
       "\n",
       "    .dataframe thead th {\n",
       "        text-align: right;\n",
       "    }\n",
       "</style>\n",
       "<table border=\"1\" class=\"dataframe\">\n",
       "  <thead>\n",
       "    <tr style=\"text-align: right;\">\n",
       "      <th></th>\n",
       "      <th>value</th>\n",
       "    </tr>\n",
       "    <tr>\n",
       "      <th>description</th>\n",
       "      <th></th>\n",
       "    </tr>\n",
       "  </thead>\n",
       "  <tbody>\n",
       "    <tr>\n",
       "      <th>Equatorial Diameter:</th>\n",
       "      <td>6,792 km</td>\n",
       "    </tr>\n",
       "    <tr>\n",
       "      <th>Polar Diameter:</th>\n",
       "      <td>6,752 km</td>\n",
       "    </tr>\n",
       "    <tr>\n",
       "      <th>Mass:</th>\n",
       "      <td>6.42 x 10^23 kg (10.7% Earth)</td>\n",
       "    </tr>\n",
       "    <tr>\n",
       "      <th>Moons:</th>\n",
       "      <td>2 (Phobos &amp; Deimos)</td>\n",
       "    </tr>\n",
       "    <tr>\n",
       "      <th>Orbit Distance:</th>\n",
       "      <td>227,943,824 km (1.52 AU)</td>\n",
       "    </tr>\n",
       "    <tr>\n",
       "      <th>Orbit Period:</th>\n",
       "      <td>687 days (1.9 years)</td>\n",
       "    </tr>\n",
       "    <tr>\n",
       "      <th>Surface Temperature:</th>\n",
       "      <td>-153 to 20 °C</td>\n",
       "    </tr>\n",
       "    <tr>\n",
       "      <th>First Record:</th>\n",
       "      <td>2nd millennium BC</td>\n",
       "    </tr>\n",
       "    <tr>\n",
       "      <th>Recorded By:</th>\n",
       "      <td>Egyptian astronomers</td>\n",
       "    </tr>\n",
       "  </tbody>\n",
       "</table>\n",
       "</div>"
      ],
      "text/plain": [
       "                                              value\n",
       "description                                        \n",
       "Equatorial Diameter:                       6,792 km\n",
       "Polar Diameter:                            6,752 km\n",
       "Mass:                 6.42 x 10^23 kg (10.7% Earth)\n",
       "Moons:                          2 (Phobos & Deimos)\n",
       "Orbit Distance:            227,943,824 km (1.52 AU)\n",
       "Orbit Period:                  687 days (1.9 years)\n",
       "Surface Temperature:                  -153 to 20 °C\n",
       "First Record:                     2nd millennium BC\n",
       "Recorded By:                   Egyptian astronomers"
      ]
     },
     "execution_count": 10,
     "metadata": {},
     "output_type": "execute_result"
    }
   ],
   "source": [
    "#Examine dataframe conversion of table:\n",
    "mars_facts_df.head(15)"
   ]
  },
  {
   "cell_type": "code",
   "execution_count": 11,
   "metadata": {},
   "outputs": [
    {
     "name": "stdout",
     "output_type": "stream",
     "text": [
      "Sol 2004 (March 27, 2018), Sunny, high -8C/17F, low -74C/-101F, pressure at 7.16 hPa, daylight 05:31-17:23\n"
     ]
    }
   ],
   "source": [
    "#Latest mars weather information (@marswxreport, Twitter)\n",
    "url = 'https://twitter.com/marswxreport?lang=en'\n",
    "browser.visit(url)\n",
    "time.sleep(1)\n",
    "\n",
    "#Pass html from splinter/chromedriver to be parsed by beautiful soup\n",
    "html = browser.html\n",
    "soup = BeautifulSoup(html, 'html.parser')\n",
    "\n",
    "mars_weather_tweet_object = soup.find('div', attrs={\"class\": \"tweet\", \"data-name\": \"Mars Weather\"})\n",
    "mars_weather_tweet_enc_tags= mars_weather_tweet_object.find('p', 'tweet-text')\n",
    "current_mars_weather = mars_weather_tweet_enc_tags.get_text()\n",
    "print(current_mars_weather)"
   ]
  },
  {
   "cell_type": "code",
   "execution_count": 12,
   "metadata": {},
   "outputs": [],
   "source": [
    "#Mars Hemispheres title and image url\n",
    "url = \"https://astrogeology.usgs.gov/search/results?q=hemisphere+enhanced&k1=target&v1=Mars\"\n",
    "browser.visit(url)\n",
    "time.sleep(1)\n",
    "\n",
    "#Pass html from splinter/chromedriver to be parsed by beautiful soup\n",
    "html = browser.html\n",
    "soup = BeautifulSoup(html, 'html.parser')\n",
    "\n",
    "#Base url for full image link reconstruction\n",
    "url_base = \"https://astrogeology.usgs.gov\"\n",
    "\n",
    "#List declaration\n",
    "hemisphere_url_images_complete = []\n",
    "url_list_incomplete = []\n"
   ]
  },
  {
   "cell_type": "code",
   "execution_count": 13,
   "metadata": {},
   "outputs": [
    {
     "name": "stdout",
     "output_type": "stream",
     "text": [
      "/search/map/Mars/Viking/cerberus_enhanced\n",
      "/search/map/Mars/Viking/schiaparelli_enhanced\n",
      "/search/map/Mars/Viking/syrtis_major_enhanced\n",
      "/search/map/Mars/Viking/valles_marineris_enhanced\n"
     ]
    }
   ],
   "source": [
    "#Find all div elements of the item class for url list construction\n",
    "result = soup.find_all('div', class_=\"item\")\n",
    "#Incomplete url list construction:\n",
    "for item in result:\n",
    "    link = item.find('a')['href']\n",
    "    print(item.find('a')['href'])\n",
    "    url_list_incomplete.append(link)"
   ]
  },
  {
   "cell_type": "code",
   "execution_count": null,
   "metadata": {},
   "outputs": [],
   "source": []
  },
  {
   "cell_type": "code",
   "execution_count": 14,
   "metadata": {},
   "outputs": [
    {
     "name": "stdout",
     "output_type": "stream",
     "text": [
      "[\n",
      " {\n",
      "  \"Title\": \"Cerberus Hemisphere\",\n",
      "  \"Image URL\": \"https://astrogeology.usgs.gov/cache/images/cfa62af2557222a02478f1fcd781d445_cerberus_enhanced.tif_full.jpg\"\n",
      " },\n",
      " {\n",
      "  \"Title\": \"Schiaparelli Hemisphere\",\n",
      "  \"Image URL\": \"https://astrogeology.usgs.gov/cache/images/3cdd1cbf5e0813bba925c9030d13b62e_schiaparelli_enhanced.tif_full.jpg\"\n",
      " },\n",
      " {\n",
      "  \"Title\": \"Syrtis Major Hemisphere\",\n",
      "  \"Image URL\": \"https://astrogeology.usgs.gov/cache/images/ae209b4e408bb6c3e67b6af38168cf28_syrtis_major_enhanced.tif_full.jpg\"\n",
      " },\n",
      " {\n",
      "  \"Title\": \"Valles Marineris Hemisphere\",\n",
      "  \"Image URL\": \"https://astrogeology.usgs.gov/cache/images/7cf2da4bf549ed01c17f206327be4db7_valles_marineris_enhanced.tif_full.jpg\"\n",
      " }\n",
      "]\n"
     ]
    }
   ],
   "source": [
    "for incomplete_url in url_list_incomplete:\n",
    "    #reconstruct complete url with u\n",
    "    url = url_base + incomplete_url\n",
    "    #visit complete url with splinter/chromedriver   \n",
    "    browser.visit(url)\n",
    "    time.sleep(1.5)\n",
    "    \n",
    "    #Pass html from splinter/chromedriver to be parsed by beautiful soup\n",
    "    html = browser.html\n",
    "    soup = BeautifulSoup(html, 'html.parser')\n",
    "    \n",
    "    #Grab full image url and reconstruct with base url\n",
    "    full_image_partial_url = soup.find('img', class_=\"wide-image\")\n",
    "    image = url_base + full_image_partial_url[\"src\"]\n",
    "    \n",
    "    # Grab page title and remove \"Enhanced\" from string\n",
    "    result2 = soup.find('h2', class_='title').text\n",
    "    #title = result2.text\n",
    "    title = result2.rsplit(' ', 1)[0]\n",
    "    \n",
    "    hemisphere_dict = {\"Title\": title, \"Image URL\": image}\n",
    "    hemisphere_url_images_complete.append(hemisphere_dict)\n",
    "    \n",
    "    time.sleep(1.5)\n",
    "    \n",
    "#print(hemisphere_url_images_complete)\n",
    "print(json.dumps(hemisphere_url_images_complete,indent=1))"
   ]
  },
  {
   "cell_type": "code",
   "execution_count": 15,
   "metadata": {},
   "outputs": [],
   "source": [
    "#Close chrome window (splinter/chromedriver)\n",
    "browser.quit()"
   ]
  },
  {
   "cell_type": "code",
   "execution_count": null,
   "metadata": {},
   "outputs": [],
   "source": [
    "\n"
   ]
  },
  {
   "cell_type": "code",
   "execution_count": null,
   "metadata": {},
   "outputs": [],
   "source": []
  },
  {
   "cell_type": "code",
   "execution_count": null,
   "metadata": {},
   "outputs": [],
   "source": []
  },
  {
   "cell_type": "code",
   "execution_count": null,
   "metadata": {},
   "outputs": [],
   "source": [
    "\n"
   ]
  },
  {
   "cell_type": "code",
   "execution_count": null,
   "metadata": {},
   "outputs": [],
   "source": []
  },
  {
   "cell_type": "code",
   "execution_count": null,
   "metadata": {},
   "outputs": [],
   "source": []
  },
  {
   "cell_type": "code",
   "execution_count": null,
   "metadata": {},
   "outputs": [],
   "source": []
  }
 ],
 "metadata": {
  "kernelspec": {
   "display_name": "Python 3",
   "language": "python",
   "name": "python3"
  },
  "language_info": {
   "codemirror_mode": {
    "name": "ipython",
    "version": 3
   },
   "file_extension": ".py",
   "mimetype": "text/x-python",
   "name": "python",
   "nbconvert_exporter": "python",
   "pygments_lexer": "ipython3",
   "version": "3.6.4"
  }
 },
 "nbformat": 4,
 "nbformat_minor": 2
}
